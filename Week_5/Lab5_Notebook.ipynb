{
 "cells": [
  {
   "cell_type": "code",
   "execution_count": 64,
   "metadata": {},
   "outputs": [],
   "source": [
    "import arcpy"
   ]
  },
  {
   "cell_type": "code",
   "execution_count": 65,
   "metadata": {},
   "outputs": [
    {
     "name": "stdout",
     "output_type": "stream",
     "text": [
      "Field Names: ['FID', 'Shape', 'AREA', 'PERIMETER', 'ZONE_', 'ZONE_ID', 'ECOZONE', 'ZONE_NAME', 'ZONE_NOM', 'STUDENT_NM']\n"
     ]
    }
   ],
   "source": [
    "# Set the workspace\n",
    "arcpy.env.workspace = \"C:/Users/Games/Desktop/ArcGIS/GEO115/Shape_Files/Ecozones\"\n",
    "\n",
    "# List the fields in the ecozone shapefile\n",
    "fields = arcpy.ListFields(\"ecozones.shp\")\n",
    "\n",
    "# Print the field names\n",
    "field_names = [field.name for field in fields]\n",
    "print(\"Field Names:\", field_names)\n"
   ]
  },
  {
   "cell_type": "code",
   "execution_count": 66,
   "metadata": {},
   "outputs": [],
   "source": [
    "# Path to your ecozones shapefile\n",
    "shapefile_path = \"C:/Users/Games/Desktop/ArcGIS/GEO115/Shape_Files/Ecozones/ecozones.shp\"\n",
    "\n",
    "# Initialize an empty dictionary\n",
    "ecozones = {}\n",
    "\n",
    "# Read the attribute table and extract relevant fields\n"
   ]
  },
  {
   "cell_type": "code",
   "execution_count": 67,
   "metadata": {},
   "outputs": [
    {
     "name": "stdout",
     "output_type": "stream",
     "text": [
      "{'Northern Arctic': {'ZONE_ID': 1.0, 'PERIMETER': 53.45427}, 'Arctic Cordillera': {'ZONE_ID': 14.0, 'PERIMETER': 53.45427}, 'Southern Arctic': {'ZONE_ID': 6.0, 'PERIMETER': 53.45427}, 'Taiga Cordillera': {'ZONE_ID': 7.0, 'PERIMETER': 53.45427}, 'Taiga Plain': {'ZONE_ID': 8.0, 'PERIMETER': 53.45427}, 'Taiga Shield': {'ZONE_ID': 17.0, 'PERIMETER': 53.45427}, 'Boreal Cordillera': {'ZONE_ID': 9.0, 'PERIMETER': 53.45427}, 'Boreal PLain': {'ZONE_ID': 22.0, 'PERIMETER': 53.45427}, 'Pacific Maritime': {'ZONE_ID': 18.0, 'PERIMETER': 53.45427}, 'Boreal Shield': {'ZONE_ID': 19.0, 'PERIMETER': 53.45427}, 'Hudson Plain': {'ZONE_ID': 20.0, 'PERIMETER': 53.45427}, 'Montane Cordillera': {'ZONE_ID': 15.0, 'PERIMETER': 53.45427}, 'Prairie': {'ZONE_ID': 21.0, 'PERIMETER': 53.45427}, 'Atlantic Maritime': {'ZONE_ID': 24.0, 'PERIMETER': 53.45427}, 'MixedWood Plain': {'ZONE_ID': 25.0, 'PERIMETER': 53.45427}}\n"
     ]
    }
   ],
   "source": [
    "with arcpy.da.SearchCursor(\"C:/Users/Games/Desktop/ArcGIS/GEO115/Shape_Files/Ecozones/ecozones.shp\", [\"ZONE_NAME\", \"ZONE_ID\", \"PERIMETER\"]) as cursor:\n",
    "    for row in cursor:\n",
    "        zone_name, zone_id, perimeter = row\n",
    "        ecozones[zone_name] = {\"ZONE_ID\": zone_id, \"PERIMETER\": PERIMETER}\n",
    "\n",
    "# Now 'ecozones' contains the desired information\n",
    "print(ecozones)\n"
   ]
  },
  {
   "cell_type": "code",
   "execution_count": 68,
   "metadata": {},
   "outputs": [
    {
     "name": "stdout",
     "output_type": "stream",
     "text": [
      "Buffer analysis complete. Output saved as ecozone_buffer.shp\n"
     ]
    }
   ],
   "source": [
    "import arcpy\n",
    "\n",
    "# Set the workspace\n",
    "arcpy.env.workspace = \"C:/Users/Games/Desktop/ArcGIS/GEO115/Shape_Files/Ecozones\"\n",
    "\n",
    "# Specify the ZONE_ID to create a buffer for\n",
    "zone_id = 1  # Change this to any ZONE_ID you want\n",
    "\n",
    "# Create a feature layer for the specific ZONE_ID\n",
    "arcpy.MakeFeatureLayer_management(\"ecozones.shp\", \"zone_layer\", f\"ZONE_ID = {zone_id}\")\n",
    "\n",
    "# Perform buffer analysis on the selected polygon\n",
    "output_fc = \"ecozone_buffer.shp\"\n",
    "arcpy.Buffer_analysis(\"zone_layer\", output_fc, \"100 Kilometers\")\n",
    "\n",
    "# Print a message indicating the buffer analysis is complete\n",
    "print(f\"Buffer analysis complete. Output saved as {output_fc}\")\n"
   ]
  },
  {
   "cell_type": "code",
   "execution_count": 69,
   "metadata": {},
   "outputs": [
    {
     "name": "stdout",
     "output_type": "stream",
     "text": [
      "Field 'STUDENT_NM' added and populated with CHETAN CHAVAN in ecozones.shp\n"
     ]
    }
   ],
   "source": [
    "import arcpy\n",
    "\n",
    "# Set the workspace\n",
    "arcpy.env.workspace = \"C:/Users/Games/Desktop/ArcGIS/GEO115/Shape_Files/Ecozones\"\n",
    "\n",
    "# Add a new field to the ecozone feature class\n",
    "input_fc = \"ecozones.shp\"\n",
    "new_field_name = \"STUDENT_NM\"\n",
    "arcpy.AddField_management(input_fc, new_field_name, \"TEXT\")\n",
    "\n",
    "# Populate the new field with the student's full name\n",
    "student_name = \"CHETAN CHAVAN\"  # Replace with your full name\n",
    "with arcpy.da.UpdateCursor(input_fc, [new_field_name]) as cursor:\n",
    "    for row in cursor:\n",
    "        row[0] = student_name\n",
    "        cursor.updateRow(row)\n",
    "\n",
    "# Print a message indicating the field has been added and populated\n",
    "print(f\"Field '{new_field_name}' added and populated with {student_name} in {input_fc}\")\n"
   ]
  },
  {
   "cell_type": "code",
   "execution_count": null,
   "metadata": {},
   "outputs": [],
   "source": [
    "# Importing ArcPy\n",
    "import arcpy\n",
    "\n",
    "# Task 1: Read the Ecozone Shapefile and List Field Names\n",
    "arcpy.env.workspace = \"C:/Users/Games/Desktop/ArcGIS/GEO115/Shape_Files/Ecozones\"\n",
    "fields = arcpy.ListFields(\"ecozones.shp\")\n",
    "field_names = [field.name for field in fields]\n",
    "print(\"Field Names:\", field_names)\n"
   ]
  },
  {
   "cell_type": "code",
   "execution_count": null,
   "metadata": {},
   "outputs": [],
   "source": [
    "# Task 2: Create a Dictionary to Store Selected Information\n",
    "ecozones = {}\n",
    "with arcpy.da.SearchCursor(\"ecozones.shp\", [\"ZONE_NAME\", \"ZONE_ID\", \"AREA\"]) as cursor:\n",
    "    for row in cursor:\n",
    "        zone_name, zone_id, area = row\n",
    "        ecozones[zone_name] = {\"ZONE_ID\": zone_id, \"AREA\": area}\n",
    "        \n",
    "print(\"Ecozones Dictionary:\", ecozones)\n"
   ]
  },
  {
   "cell_type": "code",
   "execution_count": 72,
   "metadata": {},
   "outputs": [
    {
     "name": "stdout",
     "output_type": "stream",
     "text": [
      "Buffer analysis complete. Output saved as ecozone_buffer.shp\n"
     ]
    }
   ],
   "source": [
    "# Task 3: Create a Buffer for One Polygon by Given ZONE_ID\n",
    "zone_id = 3  # Change this to any ZONE_ID you want\n",
    "arcpy.MakeFeatureLayer_management(\"zone_layer\", \"ecozones.shp\", f\"ZONE_ID = {zone_id}\")\n",
    "output_fc = \"ecozone_buffer.shp\"\n",
    "arcpy.Buffer_analysis(\"zone_layer\", output_fc, \"100 Kilometers\")\n",
    "print(f\"Buffer analysis complete. Output saved as {output_fc}\")\n"
   ]
  }
 ],
 "metadata": {
  "kernelspec": {
   "display_name": "ArcGISPro",
   "language": "Python",
   "name": "python3"
  },
  "language_info": {
   "file_extension": ".py",
   "name": "python",
   "version": "3"
  }
 },
 "nbformat": 4,
 "nbformat_minor": 2
}
