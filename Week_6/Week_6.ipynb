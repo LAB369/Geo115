{
 "cells": [
  {
   "cell_type": "code",
   "execution_count": 13,
   "metadata": {},
   "outputs": [
    {
     "name": "stdout",
     "output_type": "stream",
     "text": [
      "Intersection query completed.\n"
     ]
    }
   ],
   "source": [
    "import arcpy\n",
    "\n",
    "# Set the workspace to the file geodatabase\n",
    "arcpy.env.workspace = \"C:/Users/Games/Desktop/ArcGIS/GEO115/Week6/Week_6/Week_6_A00148718.gdb\"\n",
    "national_parks = \"CLAB_CA_2023-09-08.shp\"\n",
    "ecozone = \"ecozones.shp\"\n",
    "\n",
    "# Define the input-output feature class\n",
    "input_fc = national_parks\n",
    "intersect_fc = ecozone\n",
    "output_fc = \"output_intersect_check.shp\"\n",
    "\n",
    "# Perform the intersection analysis\n",
    "arcpy.analysis.Intersect([input_fc, intersect_fc], output_fc)\n",
    "\n",
    "#Print success message\n",
    "print(\"Intersection query completed.\")"
   ]
  },
  {
   "cell_type": "code",
   "execution_count": 12,
   "metadata": {},
   "outputs": [
    {
     "name": "stdout",
     "output_type": "stream",
     "text": [
      "Intersection query completed.\n"
     ]
    }
   ],
   "source": [
    "import arcpy\n",
    "\n",
    "# Set the workspace to the file geodatabase\n",
    "arcpy.env.workspace = \"C:/Users/Games/Desktop/ArcGIS/GEO115/Week6/Week_6/Week_6_A00148718.gdb\"\n",
    "national_parks = \"CLAB_CA_2023-09-08.shp\"\n",
    "ecozone = \"ecozones.shp\"\n",
    "\n",
    "# Define the input-output feature class\n",
    "in_features = national_parks\n",
    "output_intersect = ecozone\n",
    "out_features = \"output_intersect_1.shp\"\n",
    "\n",
    "# Perform the intersection analysis\n",
    "arcpy.analysis.Intersect([in_features, output_intersect], out_features)\n",
    "\n",
    "#Print success message\n",
    "print(\"Intersection query completed.\")"
   ]
  },
  {
   "cell_type": "code",
   "execution_count": 14,
   "metadata": {},
   "outputs": [
    {
     "name": "stdout",
     "output_type": "stream",
     "text": [
      "Intersection query completed.\n"
     ]
    }
   ],
   "source": [
    "import arcpy\n",
    "\n",
    "# Set the workspace to the file geodatabase\n",
    "arcpy.env.workspace = \"C:/Users/Games/Desktop/ArcGIS/GEO115/Week6/Week_6/Week_6_A00148718.gdb\"\n",
    "\n",
    "\n",
    "# Define the output feature class\n",
    "output_fc = \"output_intersect_test3.shp\"\n",
    "\n",
    "# Perform the intersection analysis\n",
    "arcpy.analysis.Intersect([\"CLAB_CA_2023-09-08.shp\", \"ecozones.shp\"], output_fc)\n",
    "\n",
    "#Print success message\n",
    "print(\"Intersection query completed.\")"
   ]
  },
  {
   "cell_type": "code",
   "execution_count": 3,
   "metadata": {},
   "outputs": [
    {
     "ename": "ExecuteError",
     "evalue": "Failed to execute. Parameters are not valid.\nERROR 000725: Output Feature Class: Dataset C:/Users/Games/Desktop/ArcGIS/GEO115/Week6/Week_6/national_parks_buffer.shp already exists.\nFailed to execute (Buffer).\n",
     "output_type": "error",
     "traceback": [
      "\u001b[1;31m---------------------------------------------------------------------------\u001b[0m",
      "\u001b[1;31mExecuteError\u001b[0m                              Traceback (most recent call last)",
      "Cell \u001b[1;32mIn[3], line 22\u001b[0m\n\u001b[0;32m     20\u001b[0m \u001b[38;5;66;03m# Create a 20km buffer around the selected national parks\u001b[39;00m\n\u001b[0;32m     21\u001b[0m buffer_distance \u001b[38;5;241m=\u001b[39m \u001b[38;5;124m\"\u001b[39m\u001b[38;5;124m20000 Meters\u001b[39m\u001b[38;5;124m\"\u001b[39m\n\u001b[1;32m---> 22\u001b[0m arcpy\u001b[38;5;241m.\u001b[39manalysis\u001b[38;5;241m.\u001b[39mBuffer(\u001b[38;5;124m\"\u001b[39m\u001b[38;5;124mnational_parks_layer\u001b[39m\u001b[38;5;124m\"\u001b[39m, buffer_fc, buffer_distance)\n\u001b[0;32m     24\u001b[0m \u001b[38;5;66;03m# Select wetlands within the buffer zone\u001b[39;00m\n\u001b[0;32m     25\u001b[0m arcpy\u001b[38;5;241m.\u001b[39mmanagement\u001b[38;5;241m.\u001b[39mMakeFeatureLayer(wetland_fc, \u001b[38;5;124m\"\u001b[39m\u001b[38;5;124mwetland_layer\u001b[39m\u001b[38;5;124m\"\u001b[39m)\n",
      "File \u001b[1;32m~\\AppData\\Local\\Programs\\ArcGIS\\Pro\\Resources\\ArcPy\\arcpy\\analysis.py:1286\u001b[0m, in \u001b[0;36mBuffer\u001b[1;34m(in_features, out_feature_class, buffer_distance_or_field, line_side, line_end_type, dissolve_option, dissolve_field, method)\u001b[0m\n\u001b[0;32m   1284\u001b[0m     \u001b[38;5;28;01mreturn\u001b[39;00m retval\n\u001b[0;32m   1285\u001b[0m \u001b[38;5;28;01mexcept\u001b[39;00m \u001b[38;5;167;01mException\u001b[39;00m \u001b[38;5;28;01mas\u001b[39;00m e:\n\u001b[1;32m-> 1286\u001b[0m     \u001b[38;5;28;01mraise\u001b[39;00m e\n",
      "File \u001b[1;32m~\\AppData\\Local\\Programs\\ArcGIS\\Pro\\Resources\\ArcPy\\arcpy\\analysis.py:1283\u001b[0m, in \u001b[0;36mBuffer\u001b[1;34m(in_features, out_feature_class, buffer_distance_or_field, line_side, line_end_type, dissolve_option, dissolve_field, method)\u001b[0m\n\u001b[0;32m   1281\u001b[0m \u001b[38;5;28;01mfrom\u001b[39;00m \u001b[38;5;21;01marcpy\u001b[39;00m\u001b[38;5;21;01m.\u001b[39;00m\u001b[38;5;21;01marcobjects\u001b[39;00m\u001b[38;5;21;01m.\u001b[39;00m\u001b[38;5;21;01marcobjectconversion\u001b[39;00m \u001b[38;5;28;01mimport\u001b[39;00m convertArcObjectToPythonObject\n\u001b[0;32m   1282\u001b[0m \u001b[38;5;28;01mtry\u001b[39;00m:\n\u001b[1;32m-> 1283\u001b[0m     retval \u001b[38;5;241m=\u001b[39m convertArcObjectToPythonObject(gp\u001b[38;5;241m.\u001b[39mBuffer_analysis(\u001b[38;5;241m*\u001b[39mgp_fixargs((in_features, out_feature_class, buffer_distance_or_field, line_side, line_end_type, dissolve_option, dissolve_field, method), \u001b[38;5;28;01mTrue\u001b[39;00m)))\n\u001b[0;32m   1284\u001b[0m     \u001b[38;5;28;01mreturn\u001b[39;00m retval\n\u001b[0;32m   1285\u001b[0m \u001b[38;5;28;01mexcept\u001b[39;00m \u001b[38;5;167;01mException\u001b[39;00m \u001b[38;5;28;01mas\u001b[39;00m e:\n",
      "File \u001b[1;32m~\\AppData\\Local\\Programs\\ArcGIS\\Pro\\Resources\\ArcPy\\arcpy\\geoprocessing\\_base.py:512\u001b[0m, in \u001b[0;36mGeoprocessor.__getattr__.<locals>.<lambda>\u001b[1;34m(*args)\u001b[0m\n\u001b[0;32m    510\u001b[0m val \u001b[38;5;241m=\u001b[39m \u001b[38;5;28mgetattr\u001b[39m(\u001b[38;5;28mself\u001b[39m\u001b[38;5;241m.\u001b[39m_gp, attr)\n\u001b[0;32m    511\u001b[0m \u001b[38;5;28;01mif\u001b[39;00m \u001b[38;5;28mcallable\u001b[39m(val):\n\u001b[1;32m--> 512\u001b[0m     \u001b[38;5;28;01mreturn\u001b[39;00m \u001b[38;5;28;01mlambda\u001b[39;00m \u001b[38;5;241m*\u001b[39margs: val(\u001b[38;5;241m*\u001b[39mgp_fixargs(args, \u001b[38;5;28;01mTrue\u001b[39;00m))\n\u001b[0;32m    513\u001b[0m \u001b[38;5;28;01melse\u001b[39;00m:\n\u001b[0;32m    514\u001b[0m     \u001b[38;5;28;01mreturn\u001b[39;00m convertArcObjectToPythonObject(val)\n",
      "\u001b[1;31mExecuteError\u001b[0m: Failed to execute. Parameters are not valid.\nERROR 000725: Output Feature Class: Dataset C:/Users/Games/Desktop/ArcGIS/GEO115/Week6/Week_6/national_parks_buffer.shp already exists.\nFailed to execute (Buffer).\n"
     ]
    }
   ],
   "source": [
    "import arcpy\n",
    "\n",
    "# Set the workspace\n",
    "arcpy.env.workspace = \"C:/Users/Games/Desktop/ArcGIS/GEO115/Week6/Week_6/Week_6_A00148718.gdb\"\n",
    "\n",
    "#Define\n",
    "national_park = \"CLAB_CA_2023-09-08.shp\"\n",
    "national_park_buffer = \"national_parks_buffer.shp\"\n",
    "wetland = \"WETLAND\"\n",
    "\n",
    "# Define the input feature class and buffer distance\n",
    "input_fc = national_park\n",
    "buffer_fc = \"national_parks_buffer.shp\"\n",
    "wetland_fc = wetland\n",
    "\n",
    "# Select Ontario national parks\n",
    "sql_query = \"CPC_CODE = 'ON'\"\n",
    "arcpy.management.MakeFeatureLayer(input_fc, \"national_parks_layer\", sql_query)\n",
    "\n",
    "# Create a 20km buffer around the selected national parks\n",
    "buffer_distance = \"20000 Meters\"\n",
    "arcpy.analysis.Buffer(\"national_parks_layer\", buffer_fc, buffer_distance)\n",
    "\n",
    "# Select wetlands within the buffer zone\n",
    "arcpy.management.MakeFeatureLayer(wetland_fc, \"wetland_layer\")\n",
    "arcpy.management.SelectLayerByLocation(\"wetland_layer\", \"WITHIN\", buffer_fc, selection_type=\"NEW_SELECTION\")\n",
    "\n",
    "# Export the selected wetlands to a new feature class\n",
    "output_wetland = \"wetland_within_20km.shp\"\n",
    "arcpy.management.CopyFeatures(\"wetland_layer\", output_wetland)\n",
    "print(\"SQL query and spatial selection completed.\")\n"
   ]
  },
  {
   "cell_type": "code",
   "execution_count": null,
   "metadata": {},
   "outputs": [],
   "source": []
  }
 ],
 "metadata": {
  "kernelspec": {
   "display_name": "env_arcpy_custom",
   "language": "python",
   "name": "python3"
  },
  "language_info": {
   "codemirror_mode": {
    "name": "ipython",
    "version": 3
   },
   "file_extension": ".py",
   "mimetype": "text/x-python",
   "name": "python",
   "nbconvert_exporter": "python",
   "pygments_lexer": "ipython3",
   "version": "3.11.8"
  }
 },
 "nbformat": 4,
 "nbformat_minor": 2
}
