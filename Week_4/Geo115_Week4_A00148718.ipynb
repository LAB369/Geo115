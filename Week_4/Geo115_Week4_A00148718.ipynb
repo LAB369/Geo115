{
 "cells": [
  {
   "cell_type": "code",
   "execution_count": 1,
   "id": "211a87d4-6838-42ad-b545-7dd7686fac0f",
   "metadata": {},
   "outputs": [
    {
     "name": "stdout",
     "output_type": "stream",
     "text": [
      "Fruits: ['apple', 'cherry', 'orange']\n",
      "First fruit: apple\n"
     ]
    }
   ],
   "source": [
    "# Create a list of items\n",
    "fruits = [\"apple\", \"banana\", \"cherry\"]\n",
    "\n",
    "# Add an item to the list\n",
    "fruits.append(\"orange\")\n",
    "\n",
    "# Remove an item from the list\n",
    "fruits.remove(\"banana\")\n",
    "\n",
    "# Access elements by index\n",
    "first_fruit = fruits[0]\n",
    "\n",
    "# Print the updated list\n",
    "print(\"Fruits:\", fruits)\n",
    "print(\"First fruit:\", first_fruit)\n"
   ]
  },
  {
   "cell_type": "code",
   "execution_count": 3,
   "id": "196d654b-8a17-481f-803f-ba05bfe11b85",
   "metadata": {},
   "outputs": [
    {
     "name": "stdout",
     "output_type": "stream",
     "text": [
      "Student: {'name': 'Alice', 'age': 22, 'major': 'Computer Science'}\n",
      "Student name: Alice\n"
     ]
    }
   ],
   "source": [
    "# Create a dictionary with key-value pairs\n",
    "student = {\"name\": \"Alice\", \"age\": 21, \"major\": \"Computer Science\"}\n",
    "\n",
    "# Update a value in the dictionary\n",
    "student[\"age\"] = 22\n",
    "\n",
    "# Access elements by key\n",
    "student_name = student[\"name\"]\n",
    "\n",
    "# Print the dictionary\n",
    "print(\"Student:\", student)\n",
    "print(\"Student name:\", student_name)\n"
   ]
  },
  {
   "cell_type": "code",
   "execution_count": 5,
   "id": "1952c2db-1d15-498a-8b54-731ab139b5d8",
   "metadata": {},
   "outputs": [
    {
     "name": "stdout",
     "output_type": "stream",
     "text": [
      "Factorial: 120\n"
     ]
    }
   ],
   "source": [
    "# Define a function to calculate the factorial of a number\n",
    "def factorial(n):\n",
    "    if n == 0:\n",
    "        return 1\n",
    "    else:\n",
    "        return n * factorial(n-1)\n",
    "\n",
    "# Call the function with a sample number\n",
    "result = factorial(5)\n",
    "\n",
    "# Print the result\n",
    "print(\"Factorial:\", result)\n"
   ]
  },
  {
   "cell_type": "code",
   "execution_count": null,
   "id": "333e435e-2d4d-4fc5-bebb-ae8cef6245ec",
   "metadata": {},
   "outputs": [],
   "source": []
  }
 ],
 "metadata": {
  "kernelspec": {
   "display_name": "Python 3 (ipykernel)",
   "language": "python",
   "name": "python3"
  },
  "language_info": {
   "codemirror_mode": {
    "name": "ipython",
    "version": 3
   },
   "file_extension": ".py",
   "mimetype": "text/x-python",
   "name": "python",
   "nbconvert_exporter": "python",
   "pygments_lexer": "ipython3",
   "version": "3.12.4"
  }
 },
 "nbformat": 4,
 "nbformat_minor": 5
}
